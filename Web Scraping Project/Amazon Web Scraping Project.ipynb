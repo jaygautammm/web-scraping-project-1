{
 "cells": [
  {
   "cell_type": "code",
   "execution_count": 1,
   "id": "12d7ae07",
   "metadata": {},
   "outputs": [],
   "source": [
    "from bs4 import BeautifulSoup\n",
    "import requests\n",
    "import smtplib\n",
    "import time\n",
    "import datetime\n",
    "import csv\n",
    "import pandas as pd"
   ]
  },
  {
   "cell_type": "code",
   "execution_count": 2,
   "id": "9dd933ce",
   "metadata": {},
   "outputs": [],
   "source": [
    "URL = 'https://www.amazon.in/Redmi-inches-Ready-Smart-L32R8-FVIN/dp/B0BVMLNGXR/ref=lp_90117314031_1_1?pf_rd_p=9e034799-55e2-4ab2-b0d0-eb42f95b2d05&pf_rd_r=XG86GV99746W5TQ75Q8Q&sbo=RZvfv%2F%2FHxDF%2BO5021pAnSA%3D%3D'\n",
    "headers = {\"User-Agent\": \"Mozilla/5.0 (Windows NT 10.0; Win64; x64) AppleWebKit/537.36 (KHTML, like Gecko) Chrome/121.0.0.0 Safari/537.36 OPR/107.0.0.0\", \n",
    "    \"X-Amzn-Trace-Id\": \"Root=1-65f581cd-2b94edc3700d35407432221c\"}\n",
    "page = requests.get(URL, headers = headers)\n",
    "soup1 = BeautifulSoup(page.content, \"html.parser\")"
   ]
  },
  {
   "cell_type": "code",
   "execution_count": 3,
   "id": "2d11a798",
   "metadata": {},
   "outputs": [],
   "source": [
    "title = soup1.find(id = 'productTitle').get_text().strip()\n",
    "price = soup1.find(class_=\"a-price-whole\").get_text()\n",
    "rating = soup1.find(class_ = 'a-icon a-icon-star a-star-4 cm-cr-review-stars-spacing-big').get_text()\n",
    "today = datetime.date.today()"
   ]
  },
  {
   "cell_type": "code",
   "execution_count": 4,
   "id": "a9f624a0",
   "metadata": {},
   "outputs": [],
   "source": [
    "import csv\n",
    "\n",
    "header = ['Title', 'Price', \"Rating\", \"Date\"]\n",
    "data = [title, price, rating, today]\n",
    "\n",
    "with open('AmazonWebScraperData.csv', 'w', newline = '', encoding = 'UTF8') as f:\n",
    "    writer = csv.writer(f)\n",
    "    writer.writerow(header)\n",
    "    writer.writerow(data)"
   ]
  },
  {
   "cell_type": "code",
   "execution_count": 5,
   "id": "4dcfbaa1",
   "metadata": {},
   "outputs": [],
   "source": [
    "df = pd.read_csv('AmazonWebScraperData.csv')"
   ]
  },
  {
   "cell_type": "code",
   "execution_count": 6,
   "id": "95b96c1b",
   "metadata": {},
   "outputs": [
    {
     "data": {
      "text/html": [
       "<div>\n",
       "<style scoped>\n",
       "    .dataframe tbody tr th:only-of-type {\n",
       "        vertical-align: middle;\n",
       "    }\n",
       "\n",
       "    .dataframe tbody tr th {\n",
       "        vertical-align: top;\n",
       "    }\n",
       "\n",
       "    .dataframe thead th {\n",
       "        text-align: right;\n",
       "    }\n",
       "</style>\n",
       "<table border=\"1\" class=\"dataframe\">\n",
       "  <thead>\n",
       "    <tr style=\"text-align: right;\">\n",
       "      <th></th>\n",
       "      <th>Title</th>\n",
       "      <th>Price</th>\n",
       "      <th>Rating</th>\n",
       "      <th>Date</th>\n",
       "    </tr>\n",
       "  </thead>\n",
       "  <tbody>\n",
       "    <tr>\n",
       "      <th>0</th>\n",
       "      <td>Redmi 80 cm (32 inches) F Series HD Ready Smar...</td>\n",
       "      <td>11,490.</td>\n",
       "      <td>4.1 out of 5 stars</td>\n",
       "      <td>2024-06-14</td>\n",
       "    </tr>\n",
       "  </tbody>\n",
       "</table>\n",
       "</div>"
      ],
      "text/plain": [
       "                                               Title    Price  \\\n",
       "0  Redmi 80 cm (32 inches) F Series HD Ready Smar...  11,490.   \n",
       "\n",
       "               Rating        Date  \n",
       "0  4.1 out of 5 stars  2024-06-14  "
      ]
     },
     "execution_count": 6,
     "metadata": {},
     "output_type": "execute_result"
    }
   ],
   "source": [
    "df"
   ]
  },
  {
   "cell_type": "code",
   "execution_count": 7,
   "id": "6d69d7d0",
   "metadata": {},
   "outputs": [],
   "source": [
    "with open('AmazonWebScraperData.csv', 'a+', newline = '', encoding = 'UTF8') as f:\n",
    "    writer = csv.writer(f)\n",
    "    writer.writerow(data)"
   ]
  },
  {
   "cell_type": "code",
   "execution_count": 8,
   "id": "a55c4794",
   "metadata": {},
   "outputs": [],
   "source": [
    "def check_price():\n",
    "    URL = 'https://www.amazon.in/Redmi-inches-Ready-Smart-L32R8-FVIN/dp/B0BVMLNGXR/ref=lp_90117314031_1_1?pf_rd_p=9e034799-55e2-4ab2-b0d0-eb42f95b2d05&pf_rd_r=XG86GV99746W5TQ75Q8Q&sbo=RZvfv%2F%2FHxDF%2BO5021pAnSA%3D%3D'\n",
    "    headers = {\"User-Agent\": \"Mozilla/5.0 (Windows NT 10.0; Win64; x64) AppleWebKit/537.36 (KHTML, like Gecko) Chrome/121.0.0.0 Safari/537.36 OPR/107.0.0.0\", \n",
    "    \"X-Amzn-Trace-Id\": \"Root=1-65f581cd-2b94edc3700d35407432221c\"}\n",
    "    page = requests.get(URL, headers = headers)\n",
    "    soup1 = BeautifulSoup(page.content, \"html.parser\")\n",
    "    \n",
    "    title = soup1.find(id = 'productTitle').get_text().strip()\n",
    "    price = soup1.find(class_=\"a-price-whole\").get_text()\n",
    "    rating = soup1.find(class_ = 'a-icon a-icon-star a-star-4 cm-cr-review-stars-spacing-big').get_text()\n",
    "    today = datetime.date.today()\n",
    "    \n",
    "    header = ['Title', 'Price', \"Rating\", \"Date\"]\n",
    "    data = [title, price, rating, today]\n",
    "    \n",
    "    with open('AmazonWebScraperData.csv', 'a+', newline = '', encoding = 'UTF8') as f:\n",
    "        writer = csv.writer(f)\n",
    "        writer.writerow(data)"
   ]
  },
  {
   "cell_type": "code",
   "execution_count": 1,
   "id": "7c17acbe",
   "metadata": {},
   "outputs": [
    {
     "ename": "NameError",
     "evalue": "name 'check_price' is not defined",
     "output_type": "error",
     "traceback": [
      "\u001b[1;31m---------------------------------------------------------------------------\u001b[0m",
      "\u001b[1;31mNameError\u001b[0m                                 Traceback (most recent call last)",
      "\u001b[1;32m~\\AppData\\Local\\Temp/ipykernel_10152/2996125740.py\u001b[0m in \u001b[0;36m<module>\u001b[1;34m\u001b[0m\n\u001b[0;32m      1\u001b[0m \u001b[0ma\u001b[0m \u001b[1;33m=\u001b[0m \u001b[1;36m2\u001b[0m\u001b[1;33m\u001b[0m\u001b[1;33m\u001b[0m\u001b[0m\n\u001b[0;32m      2\u001b[0m \u001b[1;32mwhile\u001b[0m\u001b[1;33m(\u001b[0m\u001b[0ma\u001b[0m\u001b[1;33m>\u001b[0m\u001b[1;36m0\u001b[0m\u001b[1;33m)\u001b[0m\u001b[1;33m:\u001b[0m\u001b[1;33m\u001b[0m\u001b[1;33m\u001b[0m\u001b[0m\n\u001b[1;32m----> 3\u001b[1;33m     \u001b[0mcheck_price\u001b[0m\u001b[1;33m(\u001b[0m\u001b[1;33m)\u001b[0m\u001b[1;33m\u001b[0m\u001b[1;33m\u001b[0m\u001b[0m\n\u001b[0m\u001b[0;32m      4\u001b[0m     \u001b[0mtime\u001b[0m\u001b[1;33m.\u001b[0m\u001b[0msleep\u001b[0m\u001b[1;33m(\u001b[0m\u001b[1;36m5\u001b[0m\u001b[1;33m)\u001b[0m\u001b[1;33m\u001b[0m\u001b[1;33m\u001b[0m\u001b[0m\n\u001b[0;32m      5\u001b[0m     \u001b[0ma\u001b[0m \u001b[1;33m=\u001b[0m \u001b[0ma\u001b[0m \u001b[1;33m-\u001b[0m \u001b[1;36m1\u001b[0m\u001b[1;33m\u001b[0m\u001b[1;33m\u001b[0m\u001b[0m\n",
      "\u001b[1;31mNameError\u001b[0m: name 'check_price' is not defined"
     ]
    }
   ],
   "source": [
    "a = 2\n",
    "while(a>0):\n",
    "    check_price()\n",
    "    time.sleep(5)\n",
    "    a = a - 1"
   ]
  },
  {
   "cell_type": "code",
   "execution_count": 9,
   "id": "1bba978d",
   "metadata": {},
   "outputs": [
    {
     "data": {
      "text/html": [
       "<div>\n",
       "<style scoped>\n",
       "    .dataframe tbody tr th:only-of-type {\n",
       "        vertical-align: middle;\n",
       "    }\n",
       "\n",
       "    .dataframe tbody tr th {\n",
       "        vertical-align: top;\n",
       "    }\n",
       "\n",
       "    .dataframe thead th {\n",
       "        text-align: right;\n",
       "    }\n",
       "</style>\n",
       "<table border=\"1\" class=\"dataframe\">\n",
       "  <thead>\n",
       "    <tr style=\"text-align: right;\">\n",
       "      <th></th>\n",
       "      <th>Title</th>\n",
       "      <th>Price</th>\n",
       "      <th>Rating</th>\n",
       "      <th>Date</th>\n",
       "    </tr>\n",
       "  </thead>\n",
       "  <tbody>\n",
       "    <tr>\n",
       "      <th>0</th>\n",
       "      <td>Redmi 80 cm (32 inches) F Series HD Ready Smar...</td>\n",
       "      <td>11,490.</td>\n",
       "      <td>4.1 out of 5 stars</td>\n",
       "      <td>2024-06-14</td>\n",
       "    </tr>\n",
       "    <tr>\n",
       "      <th>1</th>\n",
       "      <td>Redmi 80 cm (32 inches) F Series HD Ready Smar...</td>\n",
       "      <td>11,490.</td>\n",
       "      <td>4.1 out of 5 stars</td>\n",
       "      <td>2024-06-14</td>\n",
       "    </tr>\n",
       "  </tbody>\n",
       "</table>\n",
       "</div>"
      ],
      "text/plain": [
       "                                               Title    Price  \\\n",
       "0  Redmi 80 cm (32 inches) F Series HD Ready Smar...  11,490.   \n",
       "1  Redmi 80 cm (32 inches) F Series HD Ready Smar...  11,490.   \n",
       "\n",
       "               Rating        Date  \n",
       "0  4.1 out of 5 stars  2024-06-14  \n",
       "1  4.1 out of 5 stars  2024-06-14  "
      ]
     },
     "execution_count": 9,
     "metadata": {},
     "output_type": "execute_result"
    }
   ],
   "source": [
    "df = pd.read_csv('AmazonWebScraperData.csv')\n",
    "df"
   ]
  },
  {
   "cell_type": "code",
   "execution_count": null,
   "id": "cebfdd9d",
   "metadata": {},
   "outputs": [],
   "source": []
  }
 ],
 "metadata": {
  "kernelspec": {
   "display_name": "Python 3 (ipykernel)",
   "language": "python",
   "name": "python3"
  },
  "language_info": {
   "codemirror_mode": {
    "name": "ipython",
    "version": 3
   },
   "file_extension": ".py",
   "mimetype": "text/x-python",
   "name": "python",
   "nbconvert_exporter": "python",
   "pygments_lexer": "ipython3",
   "version": "3.10.0"
  }
 },
 "nbformat": 4,
 "nbformat_minor": 5
}
