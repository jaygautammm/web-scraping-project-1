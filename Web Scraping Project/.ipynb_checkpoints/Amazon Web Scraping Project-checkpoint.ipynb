{
 "cells": [
  {
   "cell_type": "code",
   "execution_count": 5,
   "id": "8192d107",
   "metadata": {},
   "outputs": [],
   "source": [
    "from bs4 import BeautifulSoup\n",
    "import requests\n",
    "import smtplib\n",
    "import time\n",
    "import datetime"
   ]
  },
  {
   "cell_type": "code",
   "execution_count": 26,
   "id": "69fac41d",
   "metadata": {},
   "outputs": [],
   "source": [
    "URL = 'https://www.amazon.in/Redmi-inches-Ready-Smart-L32R8-FVIN/dp/B0BVMLNGXR/ref=lp_90117314031_1_1?pf_rd_p=9e034799-55e2-4ab2-b0d0-eb42f95b2d05&pf_rd_r=XG86GV99746W5TQ75Q8Q&sbo=RZvfv%2F%2FHxDF%2BO5021pAnSA%3D%3D'\n",
    "headers = {\"User-Agent\": \"Mozilla/5.0 (Windows NT 10.0; Win64; x64) AppleWebKit/537.36 (KHTML, like Gecko) Chrome/121.0.0.0 Safari/537.36 OPR/107.0.0.0\", \n",
    "    \"X-Amzn-Trace-Id\": \"Root=1-65f581cd-2b94edc3700d35407432221c\"}\n",
    "page = requests.get(URL, headers = headers)\n",
    "soup1 = BeautifulSoup(page.content, \"html.parser\")"
   ]
  },
  {
   "cell_type": "code",
   "execution_count": 32,
   "id": "fdbd2313",
   "metadata": {},
   "outputs": [
    {
     "name": "stdout",
     "output_type": "stream",
     "text": [
      "Redmi 80 cm (32 inches) F Series HD Ready Smart LED Fire TV L32R8-FVIN (Black) 12,999. 4.1 out of 5 stars\n"
     ]
    }
   ],
   "source": [
    "title = soup1.find(id = 'productTitle').get_text().strip()\n",
    "price = soup1.find(class_=\"a-price-whole\").get_text().strip()\n",
    "rating = soup1.find(class_ = 'a-icon a-icon-star a-star-4 cm-cr-review-stars-spacing-big').get_text()\n",
    "print(title, price, rating)"
   ]
  },
  {
   "cell_type": "code",
   "execution_count": 33,
   "id": "a7d16f9c",
   "metadata": {},
   "outputs": [],
   "source": [
    "import csv\n",
    "\n",
    "header = ['Title', 'Price', \"Rating\"]\n",
    "data = [title, price, rating]\n",
    "\n",
    "with open('AmazonWebScraperData.csv', 'w', newline = '', encoding = 'UTF8') as f:\n",
    "    writer = csv.writer(f)\n",
    "    writer.writerow(header)\n",
    "    writer.writerow(data)"
   ]
  },
  {
   "cell_type": "code",
   "execution_count": null,
   "id": "830b4558",
   "metadata": {},
   "outputs": [],
   "source": []
  }
 ],
 "metadata": {
  "kernelspec": {
   "display_name": "Python 3 (ipykernel)",
   "language": "python",
   "name": "python3"
  },
  "language_info": {
   "codemirror_mode": {
    "name": "ipython",
    "version": 3
   },
   "file_extension": ".py",
   "mimetype": "text/x-python",
   "name": "python",
   "nbconvert_exporter": "python",
   "pygments_lexer": "ipython3",
   "version": "3.10.0"
  }
 },
 "nbformat": 4,
 "nbformat_minor": 5
}
